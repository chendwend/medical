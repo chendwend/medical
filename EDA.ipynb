{
 "cells": [
  {
   "cell_type": "code",
   "execution_count": 1,
   "metadata": {},
   "outputs": [],
   "source": [
    "import pandas as pd, numpy as np\n",
    "import matplotlib.pyplot as plt\n",
    "from pathlib import Path\n",
    "import cv2\n",
    "from tqdm import tqdm"
   ]
  },
  {
   "cell_type": "code",
   "execution_count": null,
   "metadata": {},
   "outputs": [],
   "source": [
    "metadata_csv = \"./data/DDSM_marked/metadata.csv\"\n",
    "df = pd.read_csv(metadata_csv, index_col=0)\n",
    "df[\"name\"] = df[\"patient_id\"] + \"_\" + df[\"left or right breast\"] + \"_\" +  df[\"image view\"] + \"_\" +  df[\"abnormality type\"] + \".jpg\" \n",
    "df = df[df[\"abnormality type\"] == \"mass\"]\n"
   ]
  },
  {
   "cell_type": "code",
   "execution_count": 2,
   "metadata": {},
   "outputs": [
    {
     "data": {
      "text/plain": [
       "array(['mass'], dtype=object)"
      ]
     },
     "execution_count": 2,
     "metadata": {},
     "output_type": "execute_result"
    }
   ],
   "source": [
    "df = pd.read_csv(\"data/df.csv\", index_col=0)\n",
    "df.head()\n",
    "df[\"abnormality_type\"].unique()"
   ]
  },
  {
   "cell_type": "code",
   "execution_count": 8,
   "metadata": {},
   "outputs": [
    {
     "data": {
      "text/html": [
       "<div>\n",
       "<style scoped>\n",
       "    .dataframe tbody tr th:only-of-type {\n",
       "        vertical-align: middle;\n",
       "    }\n",
       "\n",
       "    .dataframe tbody tr th {\n",
       "        vertical-align: top;\n",
       "    }\n",
       "\n",
       "    .dataframe thead th {\n",
       "        text-align: right;\n",
       "    }\n",
       "</style>\n",
       "<table border=\"1\" class=\"dataframe\">\n",
       "  <thead>\n",
       "    <tr style=\"text-align: right;\">\n",
       "      <th></th>\n",
       "      <th>patient_id</th>\n",
       "      <th>breast_density</th>\n",
       "      <th>left_or_right_breast</th>\n",
       "      <th>image_view</th>\n",
       "      <th>abnormality_id</th>\n",
       "      <th>abnormality_type</th>\n",
       "      <th>mass_shape</th>\n",
       "      <th>mass_margins</th>\n",
       "      <th>assessment</th>\n",
       "      <th>pathology</th>\n",
       "      <th>subtlety</th>\n",
       "      <th>calc_type</th>\n",
       "      <th>calc_distribution</th>\n",
       "    </tr>\n",
       "  </thead>\n",
       "  <tbody>\n",
       "    <tr>\n",
       "      <th>1173</th>\n",
       "      <td>P_01682</td>\n",
       "      <td>3</td>\n",
       "      <td>LEFT</td>\n",
       "      <td>CC</td>\n",
       "      <td>1</td>\n",
       "      <td>mass</td>\n",
       "      <td>IRREGULAR</td>\n",
       "      <td>ILL_DEFINED</td>\n",
       "      <td>5</td>\n",
       "      <td>MALIGNANT</td>\n",
       "      <td>3</td>\n",
       "      <td>NaN</td>\n",
       "      <td>NaN</td>\n",
       "    </tr>\n",
       "    <tr>\n",
       "      <th>1174</th>\n",
       "      <td>P_01682</td>\n",
       "      <td>3</td>\n",
       "      <td>LEFT</td>\n",
       "      <td>MLO</td>\n",
       "      <td>1</td>\n",
       "      <td>mass</td>\n",
       "      <td>LOBULATED</td>\n",
       "      <td>MICROLOBULATED</td>\n",
       "      <td>5</td>\n",
       "      <td>MALIGNANT</td>\n",
       "      <td>5</td>\n",
       "      <td>NaN</td>\n",
       "      <td>NaN</td>\n",
       "    </tr>\n",
       "  </tbody>\n",
       "</table>\n",
       "</div>"
      ],
      "text/plain": [
       "     patient_id  breast_density left_or_right_breast image_view  \\\n",
       "1173    P_01682               3                 LEFT         CC   \n",
       "1174    P_01682               3                 LEFT        MLO   \n",
       "\n",
       "      abnormality_id abnormality_type mass_shape    mass_margins  assessment  \\\n",
       "1173               1             mass  IRREGULAR     ILL_DEFINED           5   \n",
       "1174               1             mass  LOBULATED  MICROLOBULATED           5   \n",
       "\n",
       "      pathology  subtlety  calc_type  calc_distribution  \n",
       "1173  MALIGNANT         3        NaN                NaN  \n",
       "1174  MALIGNANT         5        NaN                NaN  "
      ]
     },
     "execution_count": 8,
     "metadata": {},
     "output_type": "execute_result"
    }
   ],
   "source": [
    "df.query(\"patient_id == 'P_01682'\")"
   ]
  },
  {
   "cell_type": "code",
   "execution_count": 6,
   "metadata": {},
   "outputs": [
    {
     "data": {
      "text/plain": [
       "assessment\n",
       "4    702\n",
       "5    372\n",
       "3    364\n",
       "0    162\n",
       "2     91\n",
       "1      3\n",
       "Name: count, dtype: int64"
      ]
     },
     "execution_count": 6,
     "metadata": {},
     "output_type": "execute_result"
    }
   ],
   "source": [
    "df[\"assessment\"].value_counts()"
   ]
  },
  {
   "cell_type": "code",
   "execution_count": 24,
   "metadata": {},
   "outputs": [],
   "source": [
    "mask_file = f\"./data/DDSM_marked/masks/{df.iloc[0]['name']}\"\n",
    "scan_file = f\"./data/DDSM_marked/resized/{df.iloc[0]['name']}\"\n",
    "scan = cv2.imread(scan_file)\n",
    "mask = cv2.imread(mask_file, cv2.IMREAD_GRAYSCALE)\n",
    "# mask = mask // 255"
   ]
  },
  {
   "cell_type": "code",
   "execution_count": 91,
   "metadata": {},
   "outputs": [],
   "source": [
    "def create_masked_image(scan_file, mask_file):\n",
    "    image = cv2.imread(scan_file)\n",
    "    mask = cv2.imread(mask_file, cv2.IMREAD_GRAYSCALE)\n",
    "    mask = mask // 255\n",
    "\n",
    "    flood_fill_mask = mask.copy()\n",
    "    h, w = mask.shape[:2]\n",
    "    flood_fill_temp = np.zeros((h + 2, w + 2), np.uint8)\n",
    "    contours, _ = cv2.findContours(mask, cv2.RETR_EXTERNAL, cv2.CHAIN_APPROX_SIMPLE)\n",
    "    contour = max(contours, key=cv2.contourArea)\n",
    "    x, y, w, h = cv2.boundingRect(contour)\n",
    "    flood_fill_seed_point = (x + w // 2, y + h // 2)\n",
    "    cv2.floodFill(flood_fill_mask, flood_fill_temp, flood_fill_seed_point, 1)\n",
    "    flood_fill_mask = cv2.bitwise_not(flood_fill_mask)\n",
    "    combined_mask = cv2.bitwise_not(cv2.bitwise_or(mask, flood_fill_mask))\n",
    "\n",
    "    masked_image = np.zeros_like(image)\n",
    "\n",
    "    # Copy the original image values to the new image only where the combined mask is 1\n",
    "    masked_image[combined_mask == 1] = image[combined_mask == 1]\n",
    "\n",
    "    masked_image_file = Path(\"./data/masked_images\")/Path(scan_file).name\n",
    "\n",
    "    cv2.imwrite(str(masked_image_file), masked_image)\n"
   ]
  },
  {
   "cell_type": "code",
   "execution_count": 92,
   "metadata": {},
   "outputs": [
    {
     "name": "stderr",
     "output_type": "stream",
     "text": [
      "100%|██████████| 1696/1696 [00:35<00:00, 47.42it/s]\n"
     ]
    }
   ],
   "source": [
    "for row in tqdm(df.iterrows(), total=len(df)):\n",
    "    scan_file = f\"./data/DDSM_marked/resized/{row[1]['name']}\"\n",
    "    mask_file = f\"./data/DDSM_marked/masks/{row[1]['name']}\"\n",
    "    create_masked_image(scan_file, mask_file)"
   ]
  }
 ],
 "metadata": {
  "kernelspec": {
   "display_name": "CBIS-DDSM",
   "language": "python",
   "name": "python3"
  },
  "language_info": {
   "codemirror_mode": {
    "name": "ipython",
    "version": 3
   },
   "file_extension": ".py",
   "mimetype": "text/x-python",
   "name": "python",
   "nbconvert_exporter": "python",
   "pygments_lexer": "ipython3",
   "version": "3.10.12"
  },
  "orig_nbformat": 4
 },
 "nbformat": 4,
 "nbformat_minor": 2
}
